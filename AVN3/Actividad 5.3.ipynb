{
 "cells": [
  {
   "cell_type": "markdown",
   "id": "1f67473d",
   "metadata": {},
   "source": [
    "## Actividad 5.3 (Valores Nulos)\n",
    "## Tokyo"
   ]
  },
  {
   "cell_type": "code",
   "execution_count": 3,
   "id": "2fd132ac",
   "metadata": {},
   "outputs": [],
   "source": [
    "import pandas as pd\n",
    "import numpy as np\n",
    "import matplotlib.pyplot as plt"
   ]
  },
  {
   "cell_type": "code",
   "execution_count": 4,
   "id": "51e3894d",
   "metadata": {},
   "outputs": [
    {
     "data": {
      "text/html": [
       "<div>\n",
       "<style scoped>\n",
       "    .dataframe tbody tr th:only-of-type {\n",
       "        vertical-align: middle;\n",
       "    }\n",
       "\n",
       "    .dataframe tbody tr th {\n",
       "        vertical-align: top;\n",
       "    }\n",
       "\n",
       "    .dataframe thead th {\n",
       "        text-align: right;\n",
       "    }\n",
       "</style>\n",
       "<table border=\"1\" class=\"dataframe\">\n",
       "  <thead>\n",
       "    <tr style=\"text-align: right;\">\n",
       "      <th></th>\n",
       "      <th>id</th>\n",
       "      <th>listing_url</th>\n",
       "      <th>scrape_id</th>\n",
       "      <th>last_scraped</th>\n",
       "      <th>source</th>\n",
       "      <th>name</th>\n",
       "      <th>description</th>\n",
       "      <th>neighborhood_overview</th>\n",
       "      <th>picture_url</th>\n",
       "      <th>host_id</th>\n",
       "      <th>...</th>\n",
       "      <th>review_scores_communication</th>\n",
       "      <th>review_scores_location</th>\n",
       "      <th>review_scores_value</th>\n",
       "      <th>license</th>\n",
       "      <th>instant_bookable</th>\n",
       "      <th>calculated_host_listings_count</th>\n",
       "      <th>calculated_host_listings_count_entire_homes</th>\n",
       "      <th>calculated_host_listings_count_private_rooms</th>\n",
       "      <th>calculated_host_listings_count_shared_rooms</th>\n",
       "      <th>reviews_per_month</th>\n",
       "    </tr>\n",
       "  </thead>\n",
       "  <tbody>\n",
       "    <tr>\n",
       "      <th>0</th>\n",
       "      <td>197677</td>\n",
       "      <td>https://www.airbnb.com/rooms/197677</td>\n",
       "      <td>20250323161203</td>\n",
       "      <td>2025-03-24</td>\n",
       "      <td>city scrape</td>\n",
       "      <td>Oshiage Holiday Apartment</td>\n",
       "      <td>NaN</td>\n",
       "      <td>NaN</td>\n",
       "      <td>https://a0.muscache.com/pictures/38437056/d27f...</td>\n",
       "      <td>964081</td>\n",
       "      <td>...</td>\n",
       "      <td>4.84</td>\n",
       "      <td>4.56</td>\n",
       "      <td>4.80</td>\n",
       "      <td>M130003350</td>\n",
       "      <td>f</td>\n",
       "      <td>1</td>\n",
       "      <td>1</td>\n",
       "      <td>0</td>\n",
       "      <td>0</td>\n",
       "      <td>1.11</td>\n",
       "    </tr>\n",
       "    <tr>\n",
       "      <th>1</th>\n",
       "      <td>905944</td>\n",
       "      <td>https://www.airbnb.com/rooms/905944</td>\n",
       "      <td>20250323161203</td>\n",
       "      <td>2025-03-24</td>\n",
       "      <td>city scrape</td>\n",
       "      <td>4F Spacious Apartment in Shinjuku / Shibuya Tokyo</td>\n",
       "      <td>NEWLY RENOVATED property entirely for you &amp; yo...</td>\n",
       "      <td>Hatagaya is a great neighborhood located 4 min...</td>\n",
       "      <td>https://a0.muscache.com/pictures/hosting/Hosti...</td>\n",
       "      <td>4847803</td>\n",
       "      <td>...</td>\n",
       "      <td>4.92</td>\n",
       "      <td>4.80</td>\n",
       "      <td>4.80</td>\n",
       "      <td>Hotels and Inns Business Act | 渋谷区保健所長 | 31渋健生...</td>\n",
       "      <td>t</td>\n",
       "      <td>8</td>\n",
       "      <td>8</td>\n",
       "      <td>0</td>\n",
       "      <td>0</td>\n",
       "      <td>1.74</td>\n",
       "    </tr>\n",
       "    <tr>\n",
       "      <th>2</th>\n",
       "      <td>1016831</td>\n",
       "      <td>https://www.airbnb.com/rooms/1016831</td>\n",
       "      <td>20250323161203</td>\n",
       "      <td>2025-03-24</td>\n",
       "      <td>city scrape</td>\n",
       "      <td>5 mins Shibuya Cat modern sunny  Shimokita</td>\n",
       "      <td>Hi there, I am Wakana and I live with my two f...</td>\n",
       "      <td>The location is walkable distance to famous Sh...</td>\n",
       "      <td>https://a0.muscache.com/pictures/airflow/Hosti...</td>\n",
       "      <td>5596383</td>\n",
       "      <td>...</td>\n",
       "      <td>4.98</td>\n",
       "      <td>4.92</td>\n",
       "      <td>4.90</td>\n",
       "      <td>M130001107</td>\n",
       "      <td>f</td>\n",
       "      <td>1</td>\n",
       "      <td>0</td>\n",
       "      <td>1</td>\n",
       "      <td>0</td>\n",
       "      <td>1.89</td>\n",
       "    </tr>\n",
       "    <tr>\n",
       "      <th>3</th>\n",
       "      <td>1196177</td>\n",
       "      <td>https://www.airbnb.com/rooms/1196177</td>\n",
       "      <td>20250323161203</td>\n",
       "      <td>2025-03-24</td>\n",
       "      <td>city scrape</td>\n",
       "      <td>Homestay at Host's House -  Senju-Ohashi Station</td>\n",
       "      <td>Our accommodation offers:  &lt;br /&gt;&lt;br /&gt;1. **Gr...</td>\n",
       "      <td>There are shopping mall near Senjuohashi stati...</td>\n",
       "      <td>https://a0.muscache.com/pictures/72890882/05ec...</td>\n",
       "      <td>5686404</td>\n",
       "      <td>...</td>\n",
       "      <td>4.91</td>\n",
       "      <td>4.75</td>\n",
       "      <td>4.83</td>\n",
       "      <td>M130007760</td>\n",
       "      <td>f</td>\n",
       "      <td>1</td>\n",
       "      <td>0</td>\n",
       "      <td>1</td>\n",
       "      <td>0</td>\n",
       "      <td>0.99</td>\n",
       "    </tr>\n",
       "    <tr>\n",
       "      <th>4</th>\n",
       "      <td>1249571</td>\n",
       "      <td>https://www.airbnb.com/rooms/1249571</td>\n",
       "      <td>20250323161203</td>\n",
       "      <td>2025-03-24</td>\n",
       "      <td>city scrape</td>\n",
       "      <td>Unique stay! New&amp;1min to the subway</td>\n",
       "      <td>NaN</td>\n",
       "      <td>NaN</td>\n",
       "      <td>https://a0.muscache.com/pictures/d37dbd4c-dcb6...</td>\n",
       "      <td>6809418</td>\n",
       "      <td>...</td>\n",
       "      <td>4.92</td>\n",
       "      <td>4.98</td>\n",
       "      <td>4.89</td>\n",
       "      <td>M130000957</td>\n",
       "      <td>f</td>\n",
       "      <td>1</td>\n",
       "      <td>1</td>\n",
       "      <td>0</td>\n",
       "      <td>0</td>\n",
       "      <td>1.02</td>\n",
       "    </tr>\n",
       "  </tbody>\n",
       "</table>\n",
       "<p>5 rows × 79 columns</p>\n",
       "</div>"
      ],
      "text/plain": [
       "        id                           listing_url       scrape_id last_scraped  \\\n",
       "0   197677   https://www.airbnb.com/rooms/197677  20250323161203   2025-03-24   \n",
       "1   905944   https://www.airbnb.com/rooms/905944  20250323161203   2025-03-24   \n",
       "2  1016831  https://www.airbnb.com/rooms/1016831  20250323161203   2025-03-24   \n",
       "3  1196177  https://www.airbnb.com/rooms/1196177  20250323161203   2025-03-24   \n",
       "4  1249571  https://www.airbnb.com/rooms/1249571  20250323161203   2025-03-24   \n",
       "\n",
       "        source                                               name  \\\n",
       "0  city scrape                          Oshiage Holiday Apartment   \n",
       "1  city scrape  4F Spacious Apartment in Shinjuku / Shibuya Tokyo   \n",
       "2  city scrape         5 mins Shibuya Cat modern sunny  Shimokita   \n",
       "3  city scrape   Homestay at Host's House -  Senju-Ohashi Station   \n",
       "4  city scrape                Unique stay! New&1min to the subway   \n",
       "\n",
       "                                         description  \\\n",
       "0                                                NaN   \n",
       "1  NEWLY RENOVATED property entirely for you & yo...   \n",
       "2  Hi there, I am Wakana and I live with my two f...   \n",
       "3  Our accommodation offers:  <br /><br />1. **Gr...   \n",
       "4                                                NaN   \n",
       "\n",
       "                               neighborhood_overview  \\\n",
       "0                                                NaN   \n",
       "1  Hatagaya is a great neighborhood located 4 min...   \n",
       "2  The location is walkable distance to famous Sh...   \n",
       "3  There are shopping mall near Senjuohashi stati...   \n",
       "4                                                NaN   \n",
       "\n",
       "                                         picture_url  host_id  ...  \\\n",
       "0  https://a0.muscache.com/pictures/38437056/d27f...   964081  ...   \n",
       "1  https://a0.muscache.com/pictures/hosting/Hosti...  4847803  ...   \n",
       "2  https://a0.muscache.com/pictures/airflow/Hosti...  5596383  ...   \n",
       "3  https://a0.muscache.com/pictures/72890882/05ec...  5686404  ...   \n",
       "4  https://a0.muscache.com/pictures/d37dbd4c-dcb6...  6809418  ...   \n",
       "\n",
       "  review_scores_communication review_scores_location review_scores_value  \\\n",
       "0                        4.84                   4.56                4.80   \n",
       "1                        4.92                   4.80                4.80   \n",
       "2                        4.98                   4.92                4.90   \n",
       "3                        4.91                   4.75                4.83   \n",
       "4                        4.92                   4.98                4.89   \n",
       "\n",
       "                                             license instant_bookable  \\\n",
       "0                                         M130003350                f   \n",
       "1  Hotels and Inns Business Act | 渋谷区保健所長 | 31渋健生...                t   \n",
       "2                                         M130001107                f   \n",
       "3                                         M130007760                f   \n",
       "4                                         M130000957                f   \n",
       "\n",
       "  calculated_host_listings_count calculated_host_listings_count_entire_homes  \\\n",
       "0                              1                                           1   \n",
       "1                              8                                           8   \n",
       "2                              1                                           0   \n",
       "3                              1                                           0   \n",
       "4                              1                                           1   \n",
       "\n",
       "  calculated_host_listings_count_private_rooms  \\\n",
       "0                                            0   \n",
       "1                                            0   \n",
       "2                                            1   \n",
       "3                                            1   \n",
       "4                                            0   \n",
       "\n",
       "  calculated_host_listings_count_shared_rooms reviews_per_month  \n",
       "0                                           0              1.11  \n",
       "1                                           0              1.74  \n",
       "2                                           0              1.89  \n",
       "3                                           0              0.99  \n",
       "4                                           0              1.02  \n",
       "\n",
       "[5 rows x 79 columns]"
      ]
     },
     "execution_count": 4,
     "metadata": {},
     "output_type": "execute_result"
    }
   ],
   "source": [
    "data = pd.read_csv('Tokyo.csv')\n",
    "data.head(5)"
   ]
  },
  {
   "cell_type": "code",
   "execution_count": 5,
   "id": "a045d445",
   "metadata": {},
   "outputs": [
    {
     "data": {
      "text/plain": [
       "id                                                 0\n",
       "listing_url                                        0\n",
       "scrape_id                                          0\n",
       "last_scraped                                       0\n",
       "source                                             0\n",
       "                                                ... \n",
       "calculated_host_listings_count                     0\n",
       "calculated_host_listings_count_entire_homes        0\n",
       "calculated_host_listings_count_private_rooms       0\n",
       "calculated_host_listings_count_shared_rooms        0\n",
       "reviews_per_month                               3103\n",
       "Length: 79, dtype: int64"
      ]
     },
     "execution_count": 5,
     "metadata": {},
     "output_type": "execute_result"
    }
   ],
   "source": [
    "valores_nulos=data.isnull().sum()\n",
    "valores_nulos"
   ]
  },
  {
   "cell_type": "code",
   "execution_count": 6,
   "id": "2747327d",
   "metadata": {},
   "outputs": [
    {
     "data": {
      "text/plain": [
       "np.int64(137549)"
      ]
     },
     "execution_count": 6,
     "metadata": {},
     "output_type": "execute_result"
    }
   ],
   "source": [
    "valores_nulos=data.isnull().sum().sum()\n",
    "valores_nulos"
   ]
  },
  {
   "cell_type": "code",
   "execution_count": 7,
   "id": "136a6ee0",
   "metadata": {},
   "outputs": [],
   "source": [
    "data2=data.copy()"
   ]
  },
  {
   "cell_type": "code",
   "execution_count": 8,
   "id": "e79bea9a",
   "metadata": {},
   "outputs": [],
   "source": [
    "#Primer método de sustitución de valores nulos\n",
    "#Sustituir valores nulos con promedio o media\n",
    "data2[\"reviews_per_month\"]=data2[\"reviews_per_month\"].fillna(round(data2[\"reviews_per_month\"].mean(),1))\n"
   ]
  },
  {
   "cell_type": "code",
   "execution_count": 9,
   "id": "9ceba115",
   "metadata": {},
   "outputs": [
    {
     "data": {
      "text/plain": [
       "id                                              0\n",
       "listing_url                                     0\n",
       "scrape_id                                       0\n",
       "last_scraped                                    0\n",
       "source                                          0\n",
       "                                               ..\n",
       "calculated_host_listings_count                  0\n",
       "calculated_host_listings_count_entire_homes     0\n",
       "calculated_host_listings_count_private_rooms    0\n",
       "calculated_host_listings_count_shared_rooms     0\n",
       "reviews_per_month                               0\n",
       "Length: 79, dtype: int64"
      ]
     },
     "execution_count": 9,
     "metadata": {},
     "output_type": "execute_result"
    }
   ],
   "source": [
    "valores_nulos=data2.isnull().sum()\n",
    "valores_nulos"
   ]
  },
  {
   "cell_type": "code",
   "execution_count": 10,
   "id": "016f9c76",
   "metadata": {},
   "outputs": [
    {
     "data": {
      "text/plain": [
       "np.int64(137549)"
      ]
     },
     "execution_count": 10,
     "metadata": {},
     "output_type": "execute_result"
    }
   ],
   "source": [
    "valores_nulos=data.isnull().sum().sum()\n",
    "valores_nulos"
   ]
  }
 ],
 "metadata": {
  "kernelspec": {
   "display_name": "Analitica",
   "language": "python",
   "name": "python3"
  },
  "language_info": {
   "codemirror_mode": {
    "name": "ipython",
    "version": 3
   },
   "file_extension": ".py",
   "mimetype": "text/x-python",
   "name": "python",
   "nbconvert_exporter": "python",
   "pygments_lexer": "ipython3",
   "version": "3.12.11"
  }
 },
 "nbformat": 4,
 "nbformat_minor": 5
}
