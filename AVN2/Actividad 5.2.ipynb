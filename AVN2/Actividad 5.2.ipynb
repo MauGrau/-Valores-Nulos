{
 "cells": [
  {
   "cell_type": "markdown",
   "id": "a75b6fc7",
   "metadata": {},
   "source": [
    "##  Actividad 5.2 (Valores Nulos)\n",
    "## Aplicar métodos para reemplazar valores nulos en cada columna de cada dataset"
   ]
  },
  {
   "cell_type": "code",
   "execution_count": 1,
   "id": "0b7de551",
   "metadata": {},
   "outputs": [],
   "source": [
    "import pandas as pd\n",
    "import numpy as np\n",
    "import matplotlib.pyplot as plt"
   ]
  },
  {
   "cell_type": "code",
   "execution_count": 10,
   "id": "20b1ef16",
   "metadata": {},
   "outputs": [
    {
     "data": {
      "text/html": [
       "<div>\n",
       "<style scoped>\n",
       "    .dataframe tbody tr th:only-of-type {\n",
       "        vertical-align: middle;\n",
       "    }\n",
       "\n",
       "    .dataframe tbody tr th {\n",
       "        vertical-align: top;\n",
       "    }\n",
       "\n",
       "    .dataframe thead th {\n",
       "        text-align: right;\n",
       "    }\n",
       "</style>\n",
       "<table border=\"1\" class=\"dataframe\">\n",
       "  <thead>\n",
       "    <tr style=\"text-align: right;\">\n",
       "      <th></th>\n",
       "      <th>CALOR Y CONTROL S.A DE C.V</th>\n",
       "      <th>Unnamed: 1</th>\n",
       "      <th>Unnamed: 2</th>\n",
       "      <th>Unnamed: 3</th>\n",
       "      <th>Unnamed: 4</th>\n",
       "      <th>Unnamed: 5</th>\n",
       "      <th>Unnamed: 6</th>\n",
       "      <th>Unnamed: 7</th>\n",
       "      <th>Unnamed: 8</th>\n",
       "      <th>Unnamed: 9</th>\n",
       "      <th>Unnamed: 10</th>\n",
       "      <th>Unnamed: 11</th>\n",
       "      <th>Unnamed: 12</th>\n",
       "      <th>GASTO</th>\n",
       "      <th>10418041.6</th>\n",
       "      <th>Unnamed: 15</th>\n",
       "      <th>Unnamed: 16</th>\n",
       "      <th>Unnamed: 17</th>\n",
       "      <th>Unnamed: 18</th>\n",
       "    </tr>\n",
       "  </thead>\n",
       "  <tbody>\n",
       "    <tr>\n",
       "      <th>0</th>\n",
       "      <td>DEDUCCIONES 2020</td>\n",
       "      <td>NaN</td>\n",
       "      <td>NaN</td>\n",
       "      <td>NaN</td>\n",
       "      <td>NaN</td>\n",
       "      <td>NaN</td>\n",
       "      <td>NaN</td>\n",
       "      <td>NaN</td>\n",
       "      <td>NaN</td>\n",
       "      <td>NaN</td>\n",
       "      <td>NaN</td>\n",
       "      <td>NaN</td>\n",
       "      <td>NaN</td>\n",
       "      <td>IVA</td>\n",
       "      <td>1597941.439</td>\n",
       "      <td>NaN</td>\n",
       "      <td>NaN</td>\n",
       "      <td>NaN</td>\n",
       "      <td>NaN</td>\n",
       "    </tr>\n",
       "    <tr>\n",
       "      <th>1</th>\n",
       "      <td>NaN</td>\n",
       "      <td>NaN</td>\n",
       "      <td>NaN</td>\n",
       "      <td>NaN</td>\n",
       "      <td>NaN</td>\n",
       "      <td>NaN</td>\n",
       "      <td>NaN</td>\n",
       "      <td>NaN</td>\n",
       "      <td>NaN</td>\n",
       "      <td>NaN</td>\n",
       "      <td>NaN</td>\n",
       "      <td>NaN</td>\n",
       "      <td>NaN</td>\n",
       "      <td>RET IVA</td>\n",
       "      <td>198890.4</td>\n",
       "      <td>NaN</td>\n",
       "      <td>NaN</td>\n",
       "      <td>NaN</td>\n",
       "      <td>NaN</td>\n",
       "    </tr>\n",
       "    <tr>\n",
       "      <th>2</th>\n",
       "      <td>NaN</td>\n",
       "      <td>NaN</td>\n",
       "      <td>NaN</td>\n",
       "      <td>NaN</td>\n",
       "      <td>NaN</td>\n",
       "      <td>NaN</td>\n",
       "      <td>NaN</td>\n",
       "      <td>NaN</td>\n",
       "      <td>NaN</td>\n",
       "      <td>NaN</td>\n",
       "      <td>NaN</td>\n",
       "      <td>NaN</td>\n",
       "      <td>NaN</td>\n",
       "      <td>RET ISR</td>\n",
       "      <td>66039.89</td>\n",
       "      <td>NaN</td>\n",
       "      <td>NaN</td>\n",
       "      <td>NaN</td>\n",
       "      <td>NaN</td>\n",
       "    </tr>\n",
       "    <tr>\n",
       "      <th>3</th>\n",
       "      <td>NaN</td>\n",
       "      <td>NaN</td>\n",
       "      <td>NaN</td>\n",
       "      <td>NaN</td>\n",
       "      <td>NaN</td>\n",
       "      <td>NaN</td>\n",
       "      <td>NaN</td>\n",
       "      <td>NaN</td>\n",
       "      <td>NaN</td>\n",
       "      <td>NaN</td>\n",
       "      <td>NaN</td>\n",
       "      <td>NaN</td>\n",
       "      <td>NaN</td>\n",
       "      <td>NaN</td>\n",
       "      <td>NaN</td>\n",
       "      <td>NaN</td>\n",
       "      <td>NaN</td>\n",
       "      <td>NaN</td>\n",
       "      <td>NaN</td>\n",
       "    </tr>\n",
       "    <tr>\n",
       "      <th>4</th>\n",
       "      <td>FECHA</td>\n",
       "      <td>FOLIO</td>\n",
       "      <td>UUID</td>\n",
       "      <td>RFC</td>\n",
       "      <td>PROVEEDOR</td>\n",
       "      <td>TIPO GASTO</td>\n",
       "      <td>GASTO</td>\n",
       "      <td>DESCRIPCION</td>\n",
       "      <td>TC</td>\n",
       "      <td>IMPORTE</td>\n",
       "      <td>IVA</td>\n",
       "      <td>RET ISR</td>\n",
       "      <td>RET IVA</td>\n",
       "      <td>TOTAL MX</td>\n",
       "      <td>TOTAL SAT</td>\n",
       "      <td>TIPO</td>\n",
       "      <td>STATUS</td>\n",
       "      <td>POLIZA</td>\n",
       "      <td>Columna1</td>\n",
       "    </tr>\n",
       "  </tbody>\n",
       "</table>\n",
       "</div>"
      ],
      "text/plain": [
       "  CALOR Y CONTROL S.A DE C.V Unnamed: 1 Unnamed: 2 Unnamed: 3 Unnamed: 4  \\\n",
       "0           DEDUCCIONES 2020        NaN        NaN        NaN        NaN   \n",
       "1                        NaN        NaN        NaN        NaN        NaN   \n",
       "2                        NaN        NaN        NaN        NaN        NaN   \n",
       "3                        NaN        NaN        NaN        NaN        NaN   \n",
       "4                      FECHA      FOLIO       UUID        RFC  PROVEEDOR   \n",
       "\n",
       "   Unnamed: 5 Unnamed: 6   Unnamed: 7 Unnamed: 8 Unnamed: 9 Unnamed: 10  \\\n",
       "0         NaN        NaN          NaN        NaN        NaN         NaN   \n",
       "1         NaN        NaN          NaN        NaN        NaN         NaN   \n",
       "2         NaN        NaN          NaN        NaN        NaN         NaN   \n",
       "3         NaN        NaN          NaN        NaN        NaN         NaN   \n",
       "4  TIPO GASTO      GASTO  DESCRIPCION         TC    IMPORTE         IVA   \n",
       "\n",
       "  Unnamed: 11 Unnamed: 12     GASTO   10418041.6 Unnamed: 15 Unnamed: 16  \\\n",
       "0         NaN         NaN       IVA  1597941.439         NaN         NaN   \n",
       "1         NaN         NaN   RET IVA     198890.4         NaN         NaN   \n",
       "2         NaN         NaN   RET ISR     66039.89         NaN         NaN   \n",
       "3         NaN         NaN       NaN          NaN         NaN         NaN   \n",
       "4     RET ISR     RET IVA  TOTAL MX    TOTAL SAT        TIPO      STATUS   \n",
       "\n",
       "  Unnamed: 17 Unnamed: 18  \n",
       "0         NaN         NaN  \n",
       "1         NaN         NaN  \n",
       "2         NaN         NaN  \n",
       "3         NaN         NaN  \n",
       "4      POLIZA    Columna1  "
      ]
     },
     "execution_count": 10,
     "metadata": {},
     "output_type": "execute_result"
    }
   ],
   "source": [
    "data = pd.read_excel('Gastos y costos 20-23.xlsx',skipfooter=5)\n",
    "data.head(5)"
   ]
  },
  {
   "cell_type": "code",
   "execution_count": 12,
   "id": "ba4f7f5e",
   "metadata": {},
   "outputs": [
    {
     "data": {
      "text/plain": [
       "CALOR Y CONTROL S.A DE C.V       3\n",
       "Unnamed: 1                     193\n",
       "Unnamed: 2                       4\n",
       "Unnamed: 3                       4\n",
       "Unnamed: 4                       4\n",
       "Unnamed: 5                       4\n",
       "Unnamed: 6                    2506\n",
       "Unnamed: 7                       4\n",
       "Unnamed: 8                     395\n",
       "Unnamed: 9                      38\n",
       "Unnamed: 10                    272\n",
       "Unnamed: 11                      4\n",
       "Unnamed: 12                      4\n",
       "GASTO                            1\n",
       "10418041.6                       1\n",
       "Unnamed: 15                      5\n",
       "Unnamed: 16                      4\n",
       "Unnamed: 17                   3320\n",
       "Unnamed: 18                      4\n",
       "dtype: int64"
      ]
     },
     "execution_count": 12,
     "metadata": {},
     "output_type": "execute_result"
    }
   ],
   "source": [
    "valores_nulos=data.isnull().sum()\n",
    "valores_nulos"
   ]
  },
  {
   "cell_type": "code",
   "execution_count": 4,
   "id": "406c64d7",
   "metadata": {},
   "outputs": [
    {
     "data": {
      "text/plain": [
       "np.int64(6775)"
      ]
     },
     "execution_count": 4,
     "metadata": {},
     "output_type": "execute_result"
    }
   ],
   "source": [
    "valores_nulos=data.isnull().sum().sum()\n",
    "valores_nulos"
   ]
  },
  {
   "cell_type": "code",
   "execution_count": 5,
   "id": "36ed46fe",
   "metadata": {},
   "outputs": [],
   "source": [
    "data2=data.copy()"
   ]
  },
  {
   "cell_type": "code",
   "execution_count": 6,
   "id": "3ed6e585",
   "metadata": {},
   "outputs": [
    {
     "name": "stderr",
     "output_type": "stream",
     "text": [
      "C:\\Users\\Usuario\\AppData\\Local\\Temp\\ipykernel_15892\\2260628091.py:2: FutureWarning: A value is trying to be set on a copy of a DataFrame or Series through chained assignment using an inplace method.\n",
      "The behavior will change in pandas 3.0. This inplace method will never work because the intermediate object on which we are setting values always behaves as a copy.\n",
      "\n",
      "For example, when doing 'df[col].method(value, inplace=True)', try using 'df.method({col: value}, inplace=True)' or df[col] = df[col].method(value) instead, to perform the operation inplace on the original object.\n",
      "\n",
      "\n",
      "  data2[\"CALOR Y CONTROL S.A DE C.V\"].fillna(round(data2[\"CALOR Y CONTROL S.A DE C.V\"].mean(),1), inplace=True)\n"
     ]
    }
   ],
   "source": [
    "\n",
    "data2[\"CALOR Y CONTROL S.A DE C.V\"] = pd.to_numeric(data2[\"CALOR Y CONTROL S.A DE C.V\"], errors=\"coerce\")\n",
    "data2[\"CALOR Y CONTROL S.A DE C.V\"].fillna(round(data2[\"CALOR Y CONTROL S.A DE C.V\"].mean(),1), inplace=True)"
   ]
  },
  {
   "cell_type": "code",
   "execution_count": 7,
   "id": "89b347d2",
   "metadata": {},
   "outputs": [
    {
     "data": {
      "text/plain": [
       "CALOR Y CONTROL S.A DE C.V       3\n",
       "Unnamed: 1                     193\n",
       "Unnamed: 2                       4\n",
       "Unnamed: 3                       4\n",
       "Unnamed: 4                       4\n",
       "Unnamed: 5                       4\n",
       "Unnamed: 6                    2506\n",
       "Unnamed: 7                       4\n",
       "Unnamed: 8                     395\n",
       "Unnamed: 9                      38\n",
       "Unnamed: 10                    272\n",
       "Unnamed: 11                      4\n",
       "Unnamed: 12                      4\n",
       "GASTO                            1\n",
       "10418041.6                       1\n",
       "Unnamed: 15                      5\n",
       "Unnamed: 16                      4\n",
       "Unnamed: 17                   3325\n",
       "Unnamed: 18                      4\n",
       "dtype: int64"
      ]
     },
     "execution_count": 7,
     "metadata": {},
     "output_type": "execute_result"
    }
   ],
   "source": [
    "valores_nulos=data.isnull().sum()\n",
    "valores_nulos"
   ]
  },
  {
   "cell_type": "code",
   "execution_count": 8,
   "id": "6618824d",
   "metadata": {},
   "outputs": [
    {
     "name": "stderr",
     "output_type": "stream",
     "text": [
      "C:\\Users\\Usuario\\AppData\\Local\\Temp\\ipykernel_15892\\871121315.py:2: FutureWarning: Series.fillna with 'method' is deprecated and will raise in a future version. Use obj.ffill() or obj.bfill() instead.\n",
      "  data2[\"Unnamed: 1\"] = data2[\"Unnamed: 1\"].fillna(method=\"ffill\")\n",
      "C:\\Users\\Usuario\\AppData\\Local\\Temp\\ipykernel_15892\\871121315.py:3: FutureWarning: Series.fillna with 'method' is deprecated and will raise in a future version. Use obj.ffill() or obj.bfill() instead.\n",
      "  data2[\"Unnamed: 2\"] = data2[\"Unnamed: 2\"].fillna(method=\"ffill\")\n",
      "C:\\Users\\Usuario\\AppData\\Local\\Temp\\ipykernel_15892\\871121315.py:4: FutureWarning: Series.fillna with 'method' is deprecated and will raise in a future version. Use obj.ffill() or obj.bfill() instead.\n",
      "  data2[\"Unnamed: 3\"] = data2[\"Unnamed: 3\"].fillna(method=\"ffill\")\n",
      "C:\\Users\\Usuario\\AppData\\Local\\Temp\\ipykernel_15892\\871121315.py:5: FutureWarning: Series.fillna with 'method' is deprecated and will raise in a future version. Use obj.ffill() or obj.bfill() instead.\n",
      "  data2[\"Unnamed: 4\"] = data2[\"Unnamed: 4\"].fillna(method=\"ffill\")\n",
      "C:\\Users\\Usuario\\AppData\\Local\\Temp\\ipykernel_15892\\871121315.py:6: FutureWarning: Series.fillna with 'method' is deprecated and will raise in a future version. Use obj.ffill() or obj.bfill() instead.\n",
      "  data2[\"Unnamed: 5\"] = data2[\"Unnamed: 5\"].fillna(method=\"ffill\")\n"
     ]
    }
   ],
   "source": [
    "#FORWARD\n",
    "data2[\"Unnamed: 1\"] = data2[\"Unnamed: 1\"].fillna(method=\"ffill\")\n",
    "data2[\"Unnamed: 2\"] = data2[\"Unnamed: 2\"].fillna(method=\"ffill\")\n",
    "data2[\"Unnamed: 3\"] = data2[\"Unnamed: 3\"].fillna(method=\"ffill\")\n",
    "data2[\"Unnamed: 4\"] = data2[\"Unnamed: 4\"].fillna(method=\"ffill\")\n",
    "data2[\"Unnamed: 5\"] = data2[\"Unnamed: 5\"].fillna(method=\"ffill\")"
   ]
  },
  {
   "cell_type": "code",
   "execution_count": 9,
   "id": "a8aa751f",
   "metadata": {},
   "outputs": [
    {
     "data": {
      "text/plain": [
       "CALOR Y CONTROL S.A DE C.V       3\n",
       "Unnamed: 1                     193\n",
       "Unnamed: 2                       4\n",
       "Unnamed: 3                       4\n",
       "Unnamed: 4                       4\n",
       "Unnamed: 5                       4\n",
       "Unnamed: 6                    2506\n",
       "Unnamed: 7                       4\n",
       "Unnamed: 8                     395\n",
       "Unnamed: 9                      38\n",
       "Unnamed: 10                    272\n",
       "Unnamed: 11                      4\n",
       "Unnamed: 12                      4\n",
       "GASTO                            1\n",
       "10418041.6                       1\n",
       "Unnamed: 15                      5\n",
       "Unnamed: 16                      4\n",
       "Unnamed: 17                   3325\n",
       "Unnamed: 18                      4\n",
       "dtype: int64"
      ]
     },
     "execution_count": 9,
     "metadata": {},
     "output_type": "execute_result"
    }
   ],
   "source": [
    "valores_nulos=data.isnull().sum()\n",
    "valores_nulos"
   ]
  }
 ],
 "metadata": {
  "kernelspec": {
   "display_name": "Analitica",
   "language": "python",
   "name": "python3"
  },
  "language_info": {
   "codemirror_mode": {
    "name": "ipython",
    "version": 3
   },
   "file_extension": ".py",
   "mimetype": "text/x-python",
   "name": "python",
   "nbconvert_exporter": "python",
   "pygments_lexer": "ipython3",
   "version": "3.12.11"
  }
 },
 "nbformat": 4,
 "nbformat_minor": 5
}
